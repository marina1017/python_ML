{
 "cells": [
  {
   "cell_type": "markdown",
   "metadata": {},
   "source": [
    "# パーセプトロン\n",
    "## パーセプトロンの概要\n",
    "人工知能の分野においてニューロンの神経ネットワークを模倣した計算モデルをニューラルネットワークと呼ぶ\n",
    "パーセプトロンは　現在のニューラルネットワークやディープラーニングの基礎となっている理論です\n",
    "\n",
    "パーセプトロンは　y= {0,1}を識別する2値分類器\n",
    "たとえば腫瘍の良性を１　悪性１を０とするような問題をとける\n",
    "![IMG_1050.PNG](attachment:IMG_1050.PNG)"
   ]
  },
  {
   "cell_type": "markdown",
   "metadata": {},
   "source": [
    "図１は一つのニューロン　黒の実線はニューロンの結合を表している。\n",
    "ニューラルネットワークは複数のにゅーろんどうしのけつごうで　表現される。\n",
    "パーセプトロンは二層のニューラルネットワークで構成される\n",
    "\n",
    "例\n",
    "腫瘍データの場合　x1に細胞の半径　x2に細胞の面積と威風に特徴量が一つづつ入力される\n",
    "\n",
    "入力層に入力された入力ｘが中間層で重みwとかけられた総和zが出力層に入力される\n",
    "\n",
    "![IMG_1051.PNG](attachment:IMG_1051.PNG)"
   ]
  },
  {
   "cell_type": "markdown",
   "metadata": {},
   "source": [
    "## パーセプトロンの学習\n",
    "入力に対して適切な出力をするような重みwを適切に求めることが大事\n",
    "\n",
    "過去の事例から良性または悪性となるような重みを求めることが目的\n",
    "**学習とは訓練データをうまく分類する重みwをもとめることである**\n",
    "\n",
    "![IMG_1052.PNG](attachment:IMG_1052.PNG)"
   ]
  },
  {
   "cell_type": "code",
   "execution_count": 8,
   "metadata": {},
   "outputs": [],
   "source": [
    "## パーセプトロンの実験\n",
    "\n",
    "### データの準備\n",
    "from pandas import DataFrame\n",
    "from sklearn.datasets import load_breast_cancer\n",
    "\n",
    "breast_cancer = load_breast_cancer()\n",
    "#特徴量\n",
    "X = breast_cancer.data\n",
    "#目的変数\n",
    "y = breast_cancer.target\n",
    "\n",
    "## 日本語の特徵量名の用意\n",
    "columns = ['半径','テクスチャ','周囲の長さ','面積','なめらかさ','コンパクト性','へこみ','へこみの数','対称性','フラクタル次元']\n",
    "\n",
    "## x,y,columnsを利用してデータフレームを作ってみる\n",
    "from pandas import DataFrame\n",
    "df = DataFrame(data=X[:, :10], columns=columns)\n",
    "df['目的変数'] = y\n",
    "\n",
    "## 特徴量として面積とへこみのみを利用するのでDataFrameからとりだします\n",
    "x = df[['面積','へこみ']].values\n",
    "y = df['目的変数'].values"
   ]
  },
  {
   "cell_type": "code",
   "execution_count": 9,
   "metadata": {},
   "outputs": [
    {
     "name": "stdout",
     "output_type": "stream",
     "text": [
      "すべてのデータ数= 569\n",
      "訓練データ数= 398\n",
      "テストデータ数= 171\n"
     ]
    }
   ],
   "source": [
    "## 次にロードしたデータを訓練データとテストデータに分割する\n",
    "### これは学習したモデルの性能評価をするための操作　 7割を訓練に　３割をテスト用のデータに分割する 訓練用に分割したデータを訓練データ　テスト用に分割したデータをテストセットと呼ぶ\n",
    "### この操作にはscikit-learnのtrain_test_split()関数を使える\n",
    "from sklearn.model_selection import train_test_split\n",
    "\n",
    "### 訓練データをX_train, y_train テストデータを　x＿test, y_testという変数に代入する\n",
    "### random_stateパラメータに分割方法のシードを与え再現性のある分割方法にした\n",
    "X_train, X_test, y_train, y_test = train_test_split(X,y, test_size = 0.30, random_state=42)\n",
    "\n",
    "print('すべてのデータ数=',len(y))\n",
    "print('訓練データ数=',len(y_train))\n",
    "print('テストデータ数=',len(y_test))\n",
    "\n",
    "##　ちゃんと30%分割できていることがわかる"
   ]
  },
  {
   "cell_type": "markdown",
   "metadata": {},
   "source": [
    "## データの前処理\n",
    "一般的に機械学習アルゴリズムに入力する特徴量のスケールをあわせておくのがよい\n",
    "ここでは標準化と呼ばれる操作をする\n",
    "標準化はj番目の特徴量の平均をμｊ、標準偏差をσ\n",
    "$$\n",
    "    x_j = \\frac{x_j - μ_j}{σ_j}\n",
    "$$\n",
    "の変換のことで平均が0　標準偏差が１となるように変換される\n",
    "\n",
    "標準化の前処理は scikit-learnのStandardScalerに実装されているからそれを使うと良い\n"
   ]
  },
  {
   "cell_type": "code",
   "execution_count": 10,
   "metadata": {},
   "outputs": [
    {
     "data": {
      "text/plain": [
       "StandardScaler(copy=True, with_mean=True, with_std=True)"
      ]
     },
     "execution_count": 10,
     "metadata": {},
     "output_type": "execute_result"
    }
   ],
   "source": [
    "##標準化の前処理は scikit-learnのStandardScalerに実装されているからそれを使うと良い\n",
    "from sklearn.preprocessing import StandardScaler\n",
    "\n",
    "## StandardScalerをimport後標準化に必要な平均と標準偏差を訓練データから求める\n",
    "## StandardScalerのインスタンスを作成する\n",
    "sc = StandardScaler()\n",
    "## 訓練データの平均と標準偏差を計算する\n",
    "sc.fit(X_train)\n"
   ]
  },
  {
   "cell_type": "code",
   "execution_count": 11,
   "metadata": {},
   "outputs": [
    {
     "name": "stdout",
     "output_type": "stream",
     "text": [
      "[1.41760779e+01 1.91591709e+01 9.22563317e+01 6.59770854e+02\n",
      " 9.59617839e-02 1.03303191e-01 8.80707764e-02 4.84396935e-02\n",
      " 1.80308291e-01 6.26639196e-02 4.04788693e-01 1.20362688e+00\n",
      " 2.87530226e+00 4.05973291e+01 7.05388442e-03 2.53561106e-02\n",
      " 3.22594570e-02 1.19258693e-02 2.03723342e-02 3.79088518e-03\n",
      " 1.62873216e+01 2.55055528e+01 1.07363844e+02 8.81848241e+02\n",
      " 1.31772035e-01 2.49086005e-01 2.68497359e-01 1.13838822e-01\n",
      " 2.88299749e-01 8.35374121e-02]\n"
     ]
    }
   ],
   "source": [
    "## 求めた平均を確認してみます\n",
    "print(sc.mean_)"
   ]
  },
  {
   "cell_type": "code",
   "execution_count": 12,
   "metadata": {},
   "outputs": [],
   "source": [
    "## 特徴量米に平均を計算しているため値が２こあります\n",
    "## このscを利用して訓練データとテストデータを標準化します　transform()メソッドを利用する\n",
    "\n",
    "## 訓練データの標準化\n",
    "X_train_std = sc.transform(X_train)\n",
    "\n",
    "## テストデータの標準化\n",
    "## テストデータは訓練データの平均と標準偏差を用いて変換する\n",
    "X_test_std = sc.transform(X_test)\n",
    "\n",
    "## ここで、テストデータの変換には訓練データの平均と標準偏差が利用されている　同じscインスタンスを利用していることに注意する\n",
    "## これはテストデータは未知であるという前提のためテストデータに施せるしょｒは既知のデータの情報のみで行われる必要があるから"
   ]
  },
  {
   "cell_type": "code",
   "execution_count": 13,
   "metadata": {},
   "outputs": [
    {
     "name": "stdout",
     "output_type": "stream",
     "text": [
      "[-1.20869255e-15 -3.93292322e-15 -3.50361839e-15  2.23160407e-16\n",
      " -2.97863353e-15  9.79674187e-16  5.20521649e-16  2.25949912e-16\n",
      " -1.35005072e-15  3.02103401e-16  5.08247827e-16 -3.65425166e-16\n",
      " -1.17996065e-16 -6.12575317e-16 -1.19056077e-15 -2.49270175e-15\n",
      " -3.00429698e-16  1.11663889e-15 -3.51756591e-16 -1.23017174e-16\n",
      "  6.05880505e-16  3.82162197e-16 -1.60396543e-15 -1.79644128e-15\n",
      " -2.81461063e-16 -1.61233394e-16 -4.34604893e-16  7.29455580e-16\n",
      "  1.52753299e-15 -3.03609734e-15]\n",
      "[1. 1. 1. 1. 1. 1. 1. 1. 1. 1. 1. 1. 1. 1. 1. 1. 1. 1. 1. 1. 1. 1. 1. 1.\n",
      " 1. 1. 1. 1. 1. 1.]\n"
     ]
    }
   ],
   "source": [
    "## 標準化後の訓練データの平均値\n",
    "train_mean = X_train_std.mean(axis=0)\n",
    "print(train_mean)\n",
    "\n",
    "## 標準化後の訓練データの標準偏差\n",
    "train_std = X_train_std.std(axis=0)\n",
    "print(train_std )\n",
    "\n",
    "## 壁んちがほぼ０分散が１になっているのが確認できる"
   ]
  },
  {
   "cell_type": "code",
   "execution_count": 14,
   "metadata": {},
   "outputs": [
    {
     "name": "stdout",
     "output_type": "stream",
     "text": [
      "[-0.04597057  0.10315646 -0.03940727 -0.04532172  0.09644359  0.06751963\n",
      "  0.0311842   0.04235786  0.10583278  0.06145088  0.00439741  0.08484972\n",
      " -0.01456632 -0.01773739 -0.01380772  0.02259276 -0.04054311 -0.06933399\n",
      "  0.07063855  0.00505069 -0.01258607  0.09504674 -0.0103356  -0.00738487\n",
      "  0.08632782  0.1160991   0.06269844  0.0400205   0.09493967  0.07767338]\n",
      "[0.98948188 1.06486142 1.00201041 0.9345188  1.06850497 1.10055609\n",
      " 1.07933796 1.09397721 1.06335606 0.91074849 0.84144475 1.19355726\n",
      " 0.84740131 0.74573382 0.87650678 0.98492661 1.0151084  0.96512907\n",
      " 1.0999758  0.99515494 1.02426784 1.06778101 1.05252708 0.99307625\n",
      " 0.97075273 1.1811251  1.19883296 1.09394138 0.97376989 1.09913189]\n"
     ]
    }
   ],
   "source": [
    "## 標準化後のテストデータの平均値\n",
    "test_mean = X_test_std.mean(axis=0)\n",
    "print(test_mean)\n",
    "\n",
    "## 標準化後のテストデータの標準偏差\n",
    "test_std = X_test_std.std(axis=0)\n",
    "print(test_std)\n",
    "\n",
    "## 訓練データほどの制度で平均０　標準偏差が１になってない\n",
    "## テストデータと訓練データは一般的に異なるからこれが正常"
   ]
  },
  {
   "cell_type": "code",
   "execution_count": 15,
   "metadata": {},
   "outputs": [
    {
     "name": "stderr",
     "output_type": "stream",
     "text": [
      "/Users/marina/.local/share/virtualenvs/python_ML-mAoi_q9c/lib/python3.7/site-packages/sklearn/linear_model/stochastic_gradient.py:183: FutureWarning: max_iter and tol parameters have been added in Perceptron in 0.19. If max_iter is set but tol is left unset, the default value for tol in 0.19 and 0.20 will be None (which is equivalent to -infinity, so it has no effect) but will change in 0.21 to 1e-3. Specify tol to silence this warning.\n",
      "  FutureWarning)\n"
     ]
    },
    {
     "data": {
      "text/plain": [
       "Perceptron(alpha=0.0001, class_weight=None, early_stopping=False, eta0=1.0,\n",
       "      fit_intercept=True, max_iter=1000, n_iter=None, n_iter_no_change=5,\n",
       "      n_jobs=None, penalty=None, random_state=42, shuffle=True, tol=None,\n",
       "      validation_fraction=0.1, verbose=0, warm_start=False)"
      ]
     },
     "execution_count": 15,
     "metadata": {},
     "output_type": "execute_result"
    }
   ],
   "source": [
    "#　学習\n",
    "## パーセプトロンの学習\n",
    "from sklearn.linear_model import Perceptron\n",
    "\n",
    "## Perceptionのインスタすを作成する\n",
    "### max_iterは重みの最大更新回数　random_stateはら数生成シード値を固定するパラメーター　これにより実行のたびに結果が変わってしまうことを防ぐ\n",
    "ppn = Perceptron(max_iter=1000, random_state=42)\n",
    "\n",
    "### パーセプトロンを学習する　fit()メソッドを呼ぶだけ これだけで学習がおわる\n",
    "ppn.fit(X_train_std, y_train)"
   ]
  },
  {
   "cell_type": "code",
   "execution_count": 16,
   "metadata": {},
   "outputs": [
    {
     "name": "stdout",
     "output_type": "stream",
     "text": [
      "[1 0 0 1 1 0 0 0 0 1 1 0 1 0 1 0 1 1 1 0 1 1 0 1 1 1 1 1 1 0 1 1 1 1 1 1 0\n",
      " 0 0 1 1 0 1 1 0 1 1 1 1 1 0 0 1 0 1 1 1 0 0 1 1 0 0 1 1 0 0 0 1 1 0 0 1 0\n",
      " 1 1 1 0 1 1 0 1 0 0 0 0 0 0 1 1 1 1 1 1 1 1 0 0 1 0 0 1 0 0 1 0 1 0 0 1 0\n",
      " 1 0 0 0 0 1 1 1 0 1 1 1 0 1 0 0 1 1 0 0 0 1 1 1 0 1 1 0 0 1 0 1 1 0 1 0 0\n",
      " 1 1 0 1 1 1 1 0 0 1 1 1 1 1 1 1 0 1 1 1 1 0 1]\n"
     ]
    }
   ],
   "source": [
    "#予測\n",
    "## 学習したパーセプトロンモデルを利用して未知のデータに対して予測を行ってみる\n",
    "## predict()メソッドにテスト用のデータをわたす\n",
    "\n",
    "## テストデータの予測\n",
    "pred = ppn.predict(X_test_std)\n",
    "print(pred)\n",
    "\n",
    "## これは予測している"
   ]
  },
  {
   "cell_type": "code",
   "execution_count": 17,
   "metadata": {},
   "outputs": [
    {
     "name": "stdout",
     "output_type": "stream",
     "text": [
      "[1 0 0 1 1 0 0 0 1 1 1 0 1 0 1 0 1 1 1 0 0 1 0 1 1 1 1 1 1 0 1 1 1 1 1 1 0\n",
      " 1 0 1 1 0 1 1 1 1 1 1 1 1 0 0 1 1 1 1 1 0 0 1 1 0 0 1 1 1 0 0 1 1 0 0 1 0\n",
      " 1 1 1 0 1 1 0 1 0 0 0 0 0 0 1 1 1 1 1 1 1 1 0 0 1 0 0 1 0 0 1 1 1 0 1 1 0\n",
      " 1 1 0 1 0 1 1 1 0 1 1 1 0 1 0 0 1 1 0 0 0 1 1 1 0 1 1 1 0 1 0 1 1 0 1 0 0\n",
      " 0 1 0 1 1 1 1 0 0 1 1 1 1 1 1 1 0 1 1 1 1 0 1]\n"
     ]
    }
   ],
   "source": [
    "## テストデータの正解値\n",
    "print(y_test)"
   ]
  },
  {
   "cell_type": "code",
   "execution_count": 18,
   "metadata": {},
   "outputs": [
    {
     "data": {
      "text/plain": [
       "0.9298245614035088"
      ]
     },
     "execution_count": 18,
     "metadata": {},
     "output_type": "execute_result"
    }
   ],
   "source": [
    "#　評価\n",
    "## 予測値がどの程度正解しているかみてみる\n",
    "## 正解率の計算もscikit-learnにおまかせする　accuracy_score()換羽雨を利用して正解率を求めてみる\n",
    "from sklearn.metrics import accuracy_score\n",
    "accuracy_score(y_test,pred)"
   ]
  },
  {
   "cell_type": "code",
   "execution_count": 39,
   "metadata": {},
   "outputs": [
    {
     "name": "stdout",
     "output_type": "stream",
     "text": [
      "[[-0.12348985 -0.29680142 -0.17050713 ... -0.84082156 -0.8563616\n",
      "  -0.76574773]\n",
      " [-0.22826757 -0.65795149 -0.25377521 ... -0.37706655 -1.3415819\n",
      "  -0.41480748]\n",
      " [ 0.14553402 -1.23056444  0.24583328 ... -0.04762652 -0.08997059\n",
      "   0.4882635 ]\n",
      " ...\n",
      " [-0.10366704  1.0907752  -0.02870406 ...  1.37075229  2.48876645\n",
      "   1.43248709]\n",
      " [-0.85693388 -1.44440331 -0.88158357 ... -0.92122249 -0.03855652\n",
      "  -0.9040662 ]\n",
      " [ 0.87614621  1.48756509  0.83035872 ...  0.94132047 -0.61535813\n",
      "  -0.23419329]]\n",
      "/////////\n",
      "[1 1 1 1 1 0 1 1 1 1 1 1 0 0 0 1 1 0 1 0 1 1 1 1 0 1 1 0 1 1 1 0 1 0 0 1 1\n",
      " 1 0 1 1 1 1 0 1 1 1 1 1 0 1 0 0 1 1 0 1 1 1 1 1 1 1 0 0 0 1 1 0 1 1 0 1 0\n",
      " 1 0 1 0 1 1 0 1 1 1 0 1 0 1 0 1 0 1 1 0 1 1 1 1 0 1 1 0 0 1 1 0 0 0 1 1 1\n",
      " 0 1 0 1 0 1 1 1 0 0 1 0 1 1 1 1 1 1 0 1 1 1 1 1 1 0 1 0 1 1 0 1 1 1 1 1 1\n",
      " 1 1 0 0 1 1 1 1 1 0 0 1 1 0 0 1 1 1 0 0 1 1 0 0 1 0 1 1 1 0 1 1 0 1 0 0 0\n",
      " 0 0 0 1 1 1 1 1 1 1 1 0 0 1 0]\n"
     ]
    }
   ],
   "source": [
    "# 決定領域\n",
    "## パーセプトロンが学習した決定領域を確認してみる\n",
    "## 決定領域をプロットすることでパーセプトロンが最終的にどうやって学習したのか視覚的にわかるようにする\n",
    "\n",
    "import numpy\n",
    "from matplotlib import pyplot\n",
    "pyplot.rcParams['font.family'] = 'IPAPGothic'\n",
    "from mlxtend.plotting import plot_decision_regions\n",
    "\n",
    "## すべてのデータをプロットするとデータが多すぎるので制限する\n",
    "N = 100\n",
    "\n",
    "## 訓練データとテストデータからN個ずつのサンプルを先頭からとってくる\n",
    "sampled_X = numpy.vstack((X_train_std[:N], X_test_std[:N]))\n",
    "sampled_Y = numpy.hstack((y_train[:N],y_test[:N]))\n",
    "print(sampled_X )\n",
    "print('/////////')\n",
    "print(sampled_Y )"
   ]
  },
  {
   "cell_type": "code",
   "execution_count": 40,
   "metadata": {},
   "outputs": [
    {
     "ename": "ValueError",
     "evalue": "Filler values must be provided when X has more than 2 training features.",
     "output_type": "error",
     "traceback": [
      "\u001b[0;31m---------------------------------------------------------------------------\u001b[0m",
      "\u001b[0;31mValueError\u001b[0m                                Traceback (most recent call last)",
      "\u001b[0;32m<ipython-input-40-d346305a6508>\u001b[0m in \u001b[0;36m<module>\u001b[0;34m\u001b[0m\n\u001b[1;32m      6\u001b[0m \u001b[0;34m\u001b[0m\u001b[0m\n\u001b[1;32m      7\u001b[0m \u001b[0;31m## 決定領域のプロット\u001b[0m\u001b[0;34m\u001b[0m\u001b[0;34m\u001b[0m\u001b[0;34m\u001b[0m\u001b[0m\n\u001b[0;32m----> 8\u001b[0;31m \u001b[0mplot_decision_regions\u001b[0m\u001b[0;34m(\u001b[0m\u001b[0msampled_X\u001b[0m\u001b[0;34m,\u001b[0m \u001b[0msampled_Y\u001b[0m\u001b[0;34m,\u001b[0m \u001b[0mclf\u001b[0m\u001b[0;34m=\u001b[0m\u001b[0mppn\u001b[0m\u001b[0;34m,\u001b[0m \u001b[0mlegend\u001b[0m \u001b[0;34m=\u001b[0m\u001b[0;36m2\u001b[0m\u001b[0;34m,\u001b[0m \u001b[0mX_highlight\u001b[0m\u001b[0;34m=\u001b[0m\u001b[0mX_test_std\u001b[0m\u001b[0;34m[\u001b[0m\u001b[0;34m:\u001b[0m\u001b[0mN\u001b[0m\u001b[0;34m]\u001b[0m\u001b[0;34m)\u001b[0m\u001b[0;34m\u001b[0m\u001b[0;34m\u001b[0m\u001b[0m\n\u001b[0m",
      "\u001b[0;32m~/.local/share/virtualenvs/python_ML-mAoi_q9c/lib/python3.7/site-packages/mlxtend/plotting/decision_regions.py\u001b[0m in \u001b[0;36mplot_decision_regions\u001b[0;34m(X, y, clf, feature_index, filler_feature_values, filler_feature_ranges, ax, X_highlight, res, legend, hide_spines, markers, colors, scatter_kwargs, contourf_kwargs, scatter_highlight_kwargs)\u001b[0m\n\u001b[1;32m    173\u001b[0m     \u001b[0;32mif\u001b[0m \u001b[0mdim\u001b[0m \u001b[0;34m>\u001b[0m \u001b[0;36m2\u001b[0m\u001b[0;34m:\u001b[0m\u001b[0;34m\u001b[0m\u001b[0;34m\u001b[0m\u001b[0m\n\u001b[1;32m    174\u001b[0m         \u001b[0;32mif\u001b[0m \u001b[0mfiller_feature_values\u001b[0m \u001b[0;32mis\u001b[0m \u001b[0;32mNone\u001b[0m\u001b[0;34m:\u001b[0m\u001b[0;34m\u001b[0m\u001b[0;34m\u001b[0m\u001b[0m\n\u001b[0;32m--> 175\u001b[0;31m             raise ValueError('Filler values must be provided when '\n\u001b[0m\u001b[1;32m    176\u001b[0m                              'X has more than 2 training features.')\n\u001b[1;32m    177\u001b[0m \u001b[0;34m\u001b[0m\u001b[0m\n",
      "\u001b[0;31mValueError\u001b[0m: Filler values must be provided when X has more than 2 training features."
     ]
    },
    {
     "data": {
      "image/png": "[encoded data removed]",
      "text/plain": [
       "<Figure size 864x864 with 1 Axes>"
      ]
     },
     "metadata": {
      "needs_background": "light"
     },
     "output_type": "display_data"
    }
   ],
   "source": [
    "## 上記コードでプロットするためのデータを用意　plot_decision_regions()関数にこれらのデータをいれる\n",
    "pyplot.figure(figsize=(12,12))\n",
    "pyplot.xlabel(\"面積\")\n",
    "pyplot.ylabel(\"へこみ\")\n",
    "pyplot.title(\"パーセプトロンの決定領域\")\n",
    "\n",
    "## 決定領域のプロット\n",
    "plot_decision_regions(sampled_X, sampled_Y, clf=ppn, legend =2, X_highlight=X_test_std[:N])"
   ]
  }
 ],
 "metadata": {
  "jupytext": {
   "text_representation": {
    "extension": ".py",
    "format_name": "light",
    "format_version": "1.4",
    "jupytext_version": "1.1.1"
   }
  },
  "kernelspec": {
   "display_name": "Python 3",
   "language": "python",
   "name": "python3"
  },
  "language_info": {
   "codemirror_mode": {
    "name": "ipython",
    "version": 3
   },
   "file_extension": ".py",
   "mimetype": "text/x-python",
   "name": "python",
   "nbconvert_exporter": "python",
   "pygments_lexer": "ipython3",
   "version": "3.7.3"
  }
 },
 "nbformat": 4,
 "nbformat_minor": 2
}
