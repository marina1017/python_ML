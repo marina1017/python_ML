{
 "cells": [
  {
   "cell_type": "markdown",
   "metadata": {},
   "source": [
    "## PyQueryの使い方"
   ]
  },
  {
   "cell_type": "code",
   "execution_count": 1,
   "metadata": {},
   "outputs": [
    {
     "name": "stdout",
     "output_type": "stream",
     "text": [
      "輸送用機器\n"
     ]
    }
   ],
   "source": [
    "from pyquery import PyQuery\n",
    "\n",
    "q = PyQuery('https://kabutan.jp/stock/?code=7203')\n",
    "sector = q.find('#stockinfo_i2 > div > a')[0].text\n",
    "print(sector)"
   ]
  },
  {
   "cell_type": "markdown",
   "metadata": {},
   "source": [
    "# Seleniumの使い方\n",
    "javaScriptで動的にページ内容を生成しているサイトではHTMLファイルからデータを取得できない\n"
   ]
  },
  {
   "cell_type": "code",
   "execution_count": 12,
   "metadata": {},
   "outputs": [
    {
     "name": "stdout",
     "output_type": "stream",
     "text": [
      "100\n"
     ]
    }
   ],
   "source": [
    "from selenium import webdriver\n",
    "\n",
    "## Firefoxはなんかうまくいかない\n",
    "#driver = webdriver.Firefox('/usr/local/bin/geckodriver')\n",
    "## とりあえずクロームで\n",
    "driver = webdriver.Chrome('/usr/local/bin/chromedriver')\n",
    "driver.get('http://jp.kabumap.com/servlets/kabumap/Action?SRC=basic/top/base&codetext=7203')\n",
    "unit = driver.find_element_by_css_selector('#minUnit').text\n",
    "print(unit)\n",
    "## やったとれた！！"
   ]
  },
  {
   "cell_type": "code",
   "execution_count": 93,
   "metadata": {},
   "outputs": [
    {
     "name": "stdout",
     "output_type": "stream",
     "text": [
      "brands_generator(code_range) <generator object brands_generator at 0x1131862a0>\n",
      "test range(1301, 1303)\n",
      "code 1301\n",
      "get_brand(code) (1301, '極洋', '1301極洋', '東証１', 100, '水産・農林業')\n",
      "brand (1301, '極洋', '1301極洋', '東証１', 100, '水産・農林業')\n",
      "code 1302\n",
      "get_brand(code) None\n"
     ]
    },
    {
     "ename": "ProgrammingError",
     "evalue": "Cannot operate on a closed database.",
     "output_type": "error",
     "traceback": [
      "\u001b[0;31m---------------------------------------------------------------------------\u001b[0m",
      "\u001b[0;31mProgrammingError\u001b[0m                          Traceback (most recent call last)",
      "\u001b[0;32m<ipython-input-93-b7987f942a9b>\u001b[0m in \u001b[0;36m<module>\u001b[0;34m\u001b[0m\n\u001b[1;32m     60\u001b[0m \u001b[0;34m\u001b[0m\u001b[0m\n\u001b[1;32m     61\u001b[0m \u001b[0;31m## 実行\u001b[0m\u001b[0;34m\u001b[0m\u001b[0;34m\u001b[0m\u001b[0;34m\u001b[0m\u001b[0m\n\u001b[0;32m---> 62\u001b[0;31m \u001b[0minsert_brands_to_db\u001b[0m\u001b[0;34m(\u001b[0m\u001b[0;34m'brands'\u001b[0m\u001b[0;34m,\u001b[0m \u001b[0mrange\u001b[0m\u001b[0;34m(\u001b[0m\u001b[0;36m1301\u001b[0m\u001b[0;34m,\u001b[0m\u001b[0;36m1303\u001b[0m\u001b[0;34m)\u001b[0m\u001b[0;34m)\u001b[0m\u001b[0;34m\u001b[0m\u001b[0;34m\u001b[0m\u001b[0m\n\u001b[0m",
      "\u001b[0;32m<ipython-input-93-b7987f942a9b>\u001b[0m in \u001b[0;36minsert_brands_to_db\u001b[0;34m(db_file_name, code_range)\u001b[0m\n\u001b[1;32m     57\u001b[0m     \u001b[0mconn\u001b[0m\u001b[0;34m.\u001b[0m\u001b[0mexecutemany\u001b[0m\u001b[0;34m(\u001b[0m\u001b[0msql\u001b[0m\u001b[0;34m,\u001b[0m \u001b[0mbrands_generator\u001b[0m\u001b[0;34m(\u001b[0m\u001b[0mcode_range\u001b[0m\u001b[0;34m)\u001b[0m\u001b[0;34m)\u001b[0m\u001b[0;34m\u001b[0m\u001b[0;34m\u001b[0m\u001b[0m\n\u001b[1;32m     58\u001b[0m     \u001b[0mconn\u001b[0m\u001b[0;34m.\u001b[0m\u001b[0mcommit\u001b[0m\u001b[0;34m(\u001b[0m\u001b[0;34m)\u001b[0m\u001b[0;34m\u001b[0m\u001b[0;34m\u001b[0m\u001b[0m\n\u001b[0;32m---> 59\u001b[0;31m     \u001b[0mconn\u001b[0m\u001b[0;34m.\u001b[0m\u001b[0mclose\u001b[0m\u001b[0;34m(\u001b[0m\u001b[0;34m)\u001b[0m\u001b[0;34m\u001b[0m\u001b[0;34m\u001b[0m\u001b[0m\n\u001b[0m\u001b[1;32m     60\u001b[0m \u001b[0;34m\u001b[0m\u001b[0m\n\u001b[1;32m     61\u001b[0m \u001b[0;31m## 実行\u001b[0m\u001b[0;34m\u001b[0m\u001b[0;34m\u001b[0m\u001b[0;34m\u001b[0m\u001b[0m\n",
      "\u001b[0;31mProgrammingError\u001b[0m: Cannot operate on a closed database."
     ]
    }
   ],
   "source": [
    "from pyquery import PyQuery\n",
    "import time\n",
    "import sqlite3\n",
    "\n",
    "\n",
    "def get_brand(code):\n",
    "  url = 'https://kabutan.jp/stock/?code={}'.format(code)\n",
    "\n",
    "  q = PyQuery(url)\n",
    "\n",
    "  if len(q.find('div.company_block')) == 0:\n",
    "    return None\n",
    "\n",
    "  try:\n",
    "    name = q.find('div.company_block > h3').text()\n",
    "    code_short_name =  q.find('#stockinfo_i1 > div.si_i1_1 > h2').text()\n",
    "    short_name = code_short_name[code_short_name.find(\" \") + 1:]\n",
    "    market = q.find('span.market').text()\n",
    "    unit_str = q.find('#kobetsu_left > table:nth-child(4) > tbody > tr:nth-child(6) > td').text()\n",
    "    unit = int(unit_str.split()[0].replace(',', ''))\n",
    "    sector = q.find('#stockinfo_i2 > div > a').text()\n",
    "  except (ValueError, IndexError):\n",
    "    return None\n",
    "\n",
    "  return code, name, short_name, market, unit, sector\n",
    "\n",
    "def brands_generator(code_range):\n",
    "  print(\"test\",code_range)\n",
    "  for code in code_range:\n",
    "    print(\"code\",code)\n",
    "    print(\"get_brand(code)\",get_brand(code))\n",
    "    brand = get_brand(code)\n",
    "    if brand:\n",
    "      print(\"brand\",brand)\n",
    "      yield brand\n",
    "    #time.sleep(1)\n",
    "\n",
    "users = [\n",
    "    ('1', 'name', 'shortname', 'market', 'java', 1),\n",
    "    ('2', 'name', 'shortname', 'market', 'java', 1),\n",
    "    ]\n",
    "\n",
    "def insert_brands_to_db(db_file_name, code_range):\n",
    "  print(\"brands_generator(code_range)\",brands_generator(code_range))\n",
    "  conn = sqlite3.connect(db_file_name)\n",
    "  with conn:\n",
    "    #sql = 'INSERT INTO brands(code,name,short_name,market,unit,sector) ' \\'VALUES(?,?,?,?,?,?)'\n",
    "\n",
    "    #print(users)\n",
    "    #print(conn)\n",
    "    #conn.executemany(sql, brands_generator(code_range))\n",
    "    #conn.executemany(sql, users)\n",
    "    \n",
    "    #conn = sqlite3.connect('brands')\n",
    "    #conn = sqlite3.connect(db_file_name)\n",
    "    sql = \"insert into brands values (?,?,?,?,?,?)\"\n",
    "    conn.executemany(sql, brands_generator(code_range))\n",
    "    conn.commit()\n",
    "    conn.close()\n",
    "\n",
    "## 実行\n",
    "insert_brands_to_db('brands', range(1301,1303))"
   ]
  }
 ],
 "metadata": {
  "jupytext": {
   "text_representation": {
    "extension": ".py",
    "format_name": "light",
    "format_version": "1.4",
    "jupytext_version": "1.1.1"
   }
  },
  "kernelspec": {
   "display_name": "Python 3",
   "language": "python",
   "name": "python3"
  },
  "language_info": {
   "codemirror_mode": {
    "name": "ipython",
    "version": 3
   },
   "file_extension": ".py",
   "mimetype": "text/x-python",
   "name": "python",
   "nbconvert_exporter": "python",
   "pygments_lexer": "ipython3",
   "version": "3.7.3"
  }
 },
 "nbformat": 4,
 "nbformat_minor": 2
}
